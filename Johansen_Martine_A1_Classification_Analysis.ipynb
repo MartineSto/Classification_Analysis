{
 "cells": [
  {
   "cell_type": "markdown",
   "id": "332c620d",
   "metadata": {},
   "source": [
    "<hr style=\"height:.9px;border:none;color:#333;background-color:#333;\" />\n",
    "<hr style=\"height:.9px;border:none;color:#333;background-color:#333;\" />\n",
    "\n",
    "\n",
    "<br><h2>A1: Classification Model Development</h2>\n",
    "\n",
    "\n",
    "\n",
    "<em><strong>Game of Thrones - Characters Alive Prediction</strong></em><br>\n",
    "\n",
    "Machine Learning - DAT-5303 - BMBAN2\n",
    "\n",
    "<em>Martine Elisabeth Stø Johansen<em><br>\n",
    "    Student ID: 10874334 \n",
    "    \n",
    "<hr style=\"height:.9px;border:none;color:#333;background-color:#333;\" />\n",
    "<hr style=\"height:.9px;border:none;color:#333;background-color:#333;\" />"
   ]
  },
  {
   "cell_type": "code",
   "execution_count": 1,
   "id": "114de163",
   "metadata": {},
   "outputs": [
    {
     "name": "stdout",
     "output_type": "stream",
     "text": [
      "\n",
      "Size of Original Dataset\n",
      "------------------------\n",
      "Observations: 1946\n",
      "Features:     25\n",
      "\n"
     ]
    }
   ],
   "source": [
    "# Importing libraries\n",
    "import pandas            as pd                       # data science essentials\n",
    "import matplotlib.pyplot as plt                      # data visualization\n",
    "import seaborn           as sns                      # enhanced data viz\n",
    "from sklearn.model_selection import train_test_split # train-test split\n",
    "from sklearn.linear_model import LogisticRegression  # logistic regression\n",
    "import statsmodels.formula.api as smf                # logistic regression\n",
    "from sklearn.metrics import confusion_matrix         # confusion matrix\n",
    "from sklearn.metrics import roc_auc_score            # auc score\n",
    "from sklearn.neighbors import KNeighborsClassifier   # KNN for classification\n",
    "from sklearn.neighbors import KNeighborsRegressor    # KNN for regression\n",
    "from sklearn.preprocessing import StandardScaler     # standard scaler\n",
    "from sklearn.tree import DecisionTreeClassifier      # classification trees\n",
    "from sklearn.tree import plot_tree                   # tree plots\n",
    "from sklearn.model_selection import RandomizedSearchCV     # hyperparameter tuning\n",
    "from sklearn.metrics import make_scorer              # customizable scorer\n",
    "from sklearn.ensemble import RandomForestClassifier     # random forest\n",
    "from sklearn.ensemble import GradientBoostingClassifier # gbm\n",
    "import gender_guesser.detector as gender # guess gender based on (given) name\n",
    "import numpy as np \n",
    "\n",
    "\n",
    "# Specifying file\n",
    "file = \"./GOT_character_predictions.xlsx\"\n",
    "\n",
    "# Importing excel file\n",
    "got = pd.read_excel(io = file,\n",
    "                    header = 0,\n",
    "                    sheet_name = 0)\n",
    "\n",
    "# Formatting and printing the dimensions of the dataset\n",
    "print(f\"\"\"\n",
    "Size of Original Dataset\n",
    "------------------------\n",
    "Observations: {got.shape[0]}\n",
    "Features:     {got.shape[1]}\n",
    "\"\"\")"
   ]
  },
  {
   "cell_type": "markdown",
   "id": "1f9ec3d9",
   "metadata": {},
   "source": [
    "## Functions"
   ]
  },
  {
   "cell_type": "code",
   "execution_count": 2,
   "id": "55b93e9f",
   "metadata": {},
   "outputs": [],
   "source": [
    "##############################################################################\n",
    "# optimal_neighbors\n",
    "##############################################################################\n",
    "def optimal_neighbors(x_data,\n",
    "                      y_data,\n",
    "                      standardize = True,\n",
    "                      pct_test=0.10,\n",
    "                      seed=219,\n",
    "                      response_type='reg',\n",
    "                      max_neighbors=20,\n",
    "                      show_viz=True):\n",
    "    \"\"\"\n",
    "Exhaustively compute training and testing results for KNN across\n",
    "[1, max_neighbors]. Outputs the maximum test score and (by default) a\n",
    "visualization of the results.\n",
    "PARAMETERS\n",
    "----------\n",
    "x_data        : explanatory variable data\n",
    "y_data        : response variable\n",
    "standardize   : whether or not to standardize the x data, default True\n",
    "pct_test      : test size for training and validation from (0,1), default 0.25\n",
    "seed          : random seed to be used in algorithm, default 219\n",
    "response_type : type of neighbors algorithm to use, default 'reg'\n",
    "    Use 'reg' for regression (KNeighborsRegressor)\n",
    "    Use 'class' for classification (KNeighborsClassifier)\n",
    "max_neighbors : maximum number of neighbors in exhaustive search, default 20\n",
    "show_viz      : display or surpress k-neigbors visualization, default True\n",
    "\"\"\"    \n",
    "    \n",
    "    \n",
    "    if standardize == True:\n",
    "        scaler             = StandardScaler()\n",
    "        scaler.fit(x_data)\n",
    "        x_scaled           = scaler.transform(x_data)\n",
    "        x_scaled_df        = pd.DataFrame(x_scaled)\n",
    "        x_data             = x_scaled_df\n",
    "\n",
    "\n",
    "\n",
    "    # Train-test split\n",
    "    x_train, x_test, y_train, y_test = train_test_split(x_data,\n",
    "                                                        y_data,\n",
    "                                                        test_size = pct_test,\n",
    "                                                        random_state = seed,\n",
    "                                                        stratify = y_data)\n",
    "\n",
    "\n",
    "    # Creating lists for training set accuracy and test set accuracy\n",
    "    training_accuracy = []\n",
    "    test_accuracy = []\n",
    "    \n",
    "    \n",
    "    # Setting neighbor range\n",
    "    neighbors_settings = range(1, max_neighbors + 1)\n",
    "\n",
    "\n",
    "    for n_neighbors in neighbors_settings:\n",
    "        # Building the model based on response variable type\n",
    "        if response_type == 'reg':\n",
    "            clf = KNeighborsRegressor(n_neighbors = n_neighbors)\n",
    "            clf.fit(x_train, y_train)\n",
    "            \n",
    "        elif response_type == 'class':\n",
    "            clf = KNeighborsClassifier(n_neighbors = n_neighbors)\n",
    "            clf.fit(x_train, y_train)            \n",
    "            \n",
    "        else:\n",
    "            print(\"Error: response_type must be 'reg' or 'class'\")\n",
    "        \n",
    "        \n",
    "        # Recording the training set accuracy\n",
    "        training_accuracy.append(clf.score(x_train, y_train))\n",
    "    \n",
    "        # Recording the generalization accuracy\n",
    "        test_accuracy.append(clf.score(x_test, y_test))\n",
    "\n",
    "\n",
    "    # Optionally displaying visualization\n",
    "    if show_viz == True:\n",
    "        fig, ax = plt.subplots(figsize=(12,8))\n",
    "        plt.plot(neighbors_settings, training_accuracy, label = \"training accuracy\")\n",
    "        plt.plot(neighbors_settings, test_accuracy, label = \"test accuracy\")\n",
    "        plt.ylabel(\"Accuracy\")\n",
    "        plt.xlabel(\"n_neighbors\")\n",
    "        plt.legend()\n",
    "        plt.show()\n",
    "    \n",
    "    \n",
    "    # Returning optimal number of neighbors\n",
    "    print(f\"The optimal number of neighbors is: {test_accuracy.index(max(test_accuracy))+1}\")\n",
    "    return test_accuracy.index(max(test_accuracy))+1\n",
    "\n",
    "\n",
    "    \n",
    "##############################################################################\n",
    "# plot_feature_importances\n",
    "##############################################################################\n",
    "def plot_feature_importances(model, train, export = False):\n",
    "    \"\"\"\n",
    "    Plots the importance of features from a CART model.\n",
    "    \n",
    "    PARAMETERS\n",
    "    ----------\n",
    "    model  : CART model\n",
    "    train  : explanatory variable training data\n",
    "    export : whether or not to export as a .png image, default False\n",
    "    \"\"\"\n",
    "    \n",
    "    # Declaring the number\n",
    "    n_features = x_train.shape[1]\n",
    "    \n",
    "    # Setting plot window\n",
    "    fig, ax = plt.subplots(figsize=(12,9))\n",
    "    \n",
    "    plt.barh(range(n_features), model.feature_importances_, align='center')\n",
    "    plt.yticks(np.arange(n_features), train.columns)\n",
    "    plt.xlabel(\"Feature importance\")\n",
    "    plt.ylabel(\"Feature\")\n",
    "    \n",
    "    if export == True:\n",
    "        plt.savefig('Tree_Leaf_50_Feature_Importance.png')\n",
    "\n",
    "\n",
    "##############################################################################\n",
    "# mv_flagger\n",
    "##############################################################################\n",
    "def mv_flagger(df):\n",
    "    \"\"\"\n",
    "Flags all columns that have missing values with 'm-COLUMN_NAME'.\n",
    "\n",
    "PARAMETERS\n",
    "----------\n",
    "df : DataFrame to flag missing values\n",
    "\n",
    "\n",
    "RETURNS\n",
    "-------\n",
    "DataFrame with missing value flags.\"\"\"\n",
    "\n",
    "\n",
    "    for col in df:\n",
    "\n",
    "        if df[col].isnull().astype(int).sum() > 0:\n",
    "            df['m_'+col] = df[col].isnull().astype(int)\n",
    "            \n",
    "    return df"
   ]
  },
  {
   "cell_type": "markdown",
   "id": "d554543e",
   "metadata": {},
   "source": [
    "## Missing Values and Feature Engineering "
   ]
  },
  {
   "cell_type": "markdown",
   "id": "cca40b41",
   "metadata": {},
   "source": [
    "Some new features is engineered to help better predict if a character is alive or not. As the dataset includes no known character that are older than a 100 years, the first new feature is done by creating a separate column for those that are born for more than 100 years ago. "
   ]
  },
  {
   "cell_type": "markdown",
   "id": "491a5db9",
   "metadata": {},
   "source": [
    "### Flagging Missing Values"
   ]
  },
  {
   "cell_type": "markdown",
   "id": "b26a97bc",
   "metadata": {},
   "source": [
    "The dataset includes missing values under several features, as most different observations have to few samples be be included. While having these features or not having could be significant."
   ]
  },
  {
   "cell_type": "code",
   "execution_count": 3,
   "id": "37d4d3ea",
   "metadata": {},
   "outputs": [],
   "source": [
    "# Running the mv_flagger function\n",
    "got = mv_flagger(df = got)"
   ]
  },
  {
   "cell_type": "markdown",
   "id": "871b3877",
   "metadata": {},
   "source": [
    "### Feature Engineering "
   ]
  },
  {
   "cell_type": "markdown",
   "id": "013359a5",
   "metadata": {},
   "source": [
    "#### Calculating the Year"
   ]
  },
  {
   "cell_type": "markdown",
   "id": "15bbf581",
   "metadata": {},
   "source": [
    "Estimating year to be able to see based on age if people are alive or not.\n",
    "While I use all people with age in the two features created for year plus age, there is no need to drop any as missing value once provide the basis."
   ]
  },
  {
   "cell_type": "code",
   "execution_count": 4,
   "id": "f57cfb62",
   "metadata": {},
   "outputs": [
    {
     "name": "stdout",
     "output_type": "stream",
     "text": [
      "305.0\n",
      "205.0\n"
     ]
    }
   ],
   "source": [
    "# Finding the current year and oldest person\n",
    "yearstd = got.loc[ : , 'dateOfBirth'].std()\n",
    "yearstd = got.loc[ : , 'dateOfBirth'] < yearstd\n",
    "year = got[yearstd].loc[ : , 'dateOfBirth'] + got[yearstd].loc[ : , 'age']\n",
    "year = year.max()\n",
    "\n",
    "# Checking what year the data is most likely from\n",
    "print(year)\n",
    "\n",
    "# Calculating earliest birth year with maximum lifespan\n",
    "yearbefore = year - got['age'].max()\n",
    "\n",
    "print(yearbefore)"
   ]
  },
  {
   "cell_type": "code",
   "execution_count": 5,
   "id": "13a267bc",
   "metadata": {},
   "outputs": [],
   "source": [
    "# Creating different columns based on birth year, to check if characters is alive or not\n",
    "got['age_birth_year'] = 0\n",
    "\n",
    "# Adding values based on condition\n",
    "for index, val in got.iterrows():\n",
    "    if got.loc[index, 'dateOfBirth'] + got.loc[index, 'age'] < 305:\n",
    "        got.loc[index, 'age_birth_year'] = 1\n",
    "        \n"
   ]
  },
  {
   "cell_type": "code",
   "execution_count": 6,
   "id": "3582e22d",
   "metadata": {},
   "outputs": [],
   "source": [
    "# Creating different columns based on if they have an age and birth year that is equal.\n",
    "got['age_equal_year'] = 0\n",
    "\n",
    "# Adding values based on condition\n",
    "for index, val in got.iterrows():\n",
    "    if got.loc[index, 'dateOfBirth'] + got.loc[index, 'age'] >= 305:\n",
    "        got.loc[index, 'age_equal_year'] = 1\n",
    "        "
   ]
  },
  {
   "cell_type": "markdown",
   "id": "65cdec9e",
   "metadata": {},
   "source": [
    "####  New Features"
   ]
  },
  {
   "cell_type": "markdown",
   "id": "6486574e",
   "metadata": {},
   "source": [
    "The following section is exploring potential features."
   ]
  },
  {
   "cell_type": "code",
   "execution_count": 7,
   "id": "27bad2a3",
   "metadata": {},
   "outputs": [],
   "source": [
    "# Engineering a new feature for no parentage\n",
    "got['no_parentage'] = got['m_father'] * got['m_mother']\n",
    "\n",
    "# Creating different era column based on no allegiance and no title\n",
    "got['no_allegiance_title'] = got['m_house'] * got['m_title']\n"
   ]
  },
  {
   "cell_type": "code",
   "execution_count": 8,
   "id": "243b2573",
   "metadata": {},
   "outputs": [],
   "source": [
    "# Engineering a new feature for characters talked about in books or appearing in the books\n",
    "got['in_books'] = got['book1_A_Game_Of_Thrones'] +\\\n",
    "got['book2_A_Clash_Of_Kings'] +\\\n",
    "got['book3_A_Storm_Of_Swords'] +\\\n",
    "got['book4_A_Feast_For_Crows'] +\\\n",
    "got['book5_A_Dance_with_Dragons']\n",
    "\n",
    "\n",
    "got['referenced'] = 0\n",
    "\n",
    "# Looping to create boolean\n",
    "for index, val in got.iterrows():\n",
    "    \n",
    "    # Adding boolean for people in the books and those just referenced\n",
    "    if got.loc[ index , 'in_books'] == 0:\n",
    "        got.loc[index, 'referenced'] = 1\n"
   ]
  },
  {
   "cell_type": "code",
   "execution_count": 9,
   "id": "25bd6ed8",
   "metadata": {},
   "outputs": [],
   "source": [
    "# Engineering a new feature for those with only one name \n",
    "got['one_name'] = 0\n",
    "\n",
    "# Looping to find people with one name\n",
    "for index, val in got.iterrows():\n",
    "    \n",
    "    # Checking for people with one name\n",
    "    if len(got.loc[index , 'name'].split()) == 1 :\n",
    "        got.loc[index, 'one_name'] = 1\n",
    "    "
   ]
  },
  {
   "cell_type": "code",
   "execution_count": 10,
   "id": "05a3ccaa",
   "metadata": {},
   "outputs": [],
   "source": [
    "# Engineering a new feature for people not in the last book, but in more than two other\n",
    "got['not_book5'] = 0\n",
    "\n",
    "for index, val in got.iterrows():\n",
    "    \n",
    "    # Adding boolean for people not in book 5 and people in more than two other books \n",
    "    if got.loc[ index , 'in_books'] >= 3 and got.loc[ index , 'book5_A_Dance_with_Dragons'] == 0:\n",
    "        got.loc[index, 'not_book5'] = 1"
   ]
  },
  {
   "cell_type": "markdown",
   "id": "eb065078",
   "metadata": {},
   "source": [
    "## Gender Guesser"
   ]
  },
  {
   "cell_type": "markdown",
   "id": "085aaf41",
   "metadata": {},
   "source": [
    "To find gender and people with special names, I ran Gender Guesser. However, as it took to much time I decided to comment-out it here. Alternatively, I would have to run it with only part of the observations."
   ]
  },
  {
   "cell_type": "code",
   "execution_count": 11,
   "id": "5c7f8351",
   "metadata": {},
   "outputs": [],
   "source": [
    "# # Splitting names\n",
    "\n",
    "# # Placeholder list\n",
    "# placeholder_lst = []\n",
    "\n",
    "# # Looping over each name\n",
    "# for index, col in got.iterrows():\n",
    "    \n",
    "#     # Splitting each name\n",
    "#     name_split = got.loc[index, 'name'].split()\n",
    "    \n",
    "#     # Appending placeholder_lst with the results\n",
    "#     placeholder_lst.append(name_split)\n",
    "    \n",
    "\n",
    "# # Converting placeholder_lst into a DataFrame \n",
    "# name_split = pd.DataFrame(placeholder_lst)\n",
    "\n",
    "# # Renaming column to concatenate\n",
    "# name_split.columns = ['first_name', 'second_name', 'third_name', 'fourth_name', 'fifth_name', 'sixth_name']\n",
    "\n",
    "# # Concatenating fist name with got DataFrame\n",
    "# got = pd.concat([got, name_split['first_name']],\n",
    "#                    axis = 1)"
   ]
  },
  {
   "cell_type": "code",
   "execution_count": 12,
   "id": "3fa0aced",
   "metadata": {},
   "outputs": [],
   "source": [
    "# # Guessing gender based on names\n",
    "\n",
    "# # Placeholder list\n",
    "# placeholder_lst = []\n",
    "\n",
    "# # Looping to guess gender\n",
    "# for name in got['first_name']:\n",
    "#     guess = gender.Detector().get_gender(name)\n",
    "#     print(guess)\n",
    "#     placeholder_lst.append(guess)\n",
    "\n",
    "# # Converting list into a series\n",
    "# got['gender_guess'] = pd.Series(placeholder_lst)"
   ]
  },
  {
   "cell_type": "markdown",
   "id": "803efd1d",
   "metadata": {},
   "source": [
    "### Dummies One Hot Adding"
   ]
  },
  {
   "cell_type": "code",
   "execution_count": 13,
   "id": "8454875c",
   "metadata": {},
   "outputs": [],
   "source": [
    "# # One hot encoding variables\n",
    "# one_hot_gender_guess       = pd.get_dummies(got['gender_guess'])\n",
    "\n",
    "\n",
    "# # Joining codings together\n",
    "# got = got.join(other = [one_hot_gender_guess])\n",
    "\n",
    "\n",
    "# got['female'] = got['mostly_female'] + got['female']\n",
    "# got['male'] = got['mostly_male'] + got['male'] + got['andy']\n",
    "\n",
    "# got.drop(['male', 'gender_guess', 'first_name'], axis = 1, inplace = True)"
   ]
  },
  {
   "cell_type": "markdown",
   "id": "32873604",
   "metadata": {},
   "source": [
    "## Dropping Columns"
   ]
  },
  {
   "cell_type": "code",
   "execution_count": 14,
   "id": "efea683f",
   "metadata": {},
   "outputs": [],
   "source": [
    "# Dropping column with missing values\n",
    "got = got.dropna(axis = 1)\n",
    "\n",
    "# Dropping columns containing string\n",
    "for column in got:\n",
    "    if type(got[column][0]) == str:\n",
    "        got.drop([column], axis = 1, inplace = True)"
   ]
  },
  {
   "cell_type": "code",
   "execution_count": 15,
   "id": "a4ac4644",
   "metadata": {},
   "outputs": [
    {
     "data": {
      "text/plain": [
       "Index(['S.No', 'book1_A_Game_Of_Thrones', 'book2_A_Clash_Of_Kings',\n",
       "       'book3_A_Storm_Of_Swords', 'book4_A_Feast_For_Crows',\n",
       "       'book5_A_Dance_with_Dragons', 'isMarried', 'isNoble',\n",
       "       'numDeadRelations', 'popularity', 'isAlive', 'm_title', 'm_culture',\n",
       "       'm_dateOfBirth', 'm_mother', 'm_father', 'm_heir', 'm_house',\n",
       "       'm_spouse', 'm_isAliveMother', 'm_isAliveFather', 'm_isAliveHeir',\n",
       "       'm_isAliveSpouse', 'm_age', 'age_birth_year', 'age_equal_year',\n",
       "       'no_parentage', 'no_allegiance_title', 'in_books', 'referenced',\n",
       "       'one_name', 'not_book5'],\n",
       "      dtype='object')"
      ]
     },
     "execution_count": 15,
     "metadata": {},
     "output_type": "execute_result"
    }
   ],
   "source": [
    "got.columns"
   ]
  },
  {
   "cell_type": "markdown",
   "id": "a395f6e2",
   "metadata": {},
   "source": [
    "## Correlation "
   ]
  },
  {
   "cell_type": "code",
   "execution_count": 16,
   "id": "2fce589b",
   "metadata": {},
   "outputs": [
    {
     "name": "stdout",
     "output_type": "stream",
     "text": [
      "isAlive                       1.00\n",
      "book4_A_Feast_For_Crows       0.27\n",
      "age_equal_year                0.23\n",
      "m_dateOfBirth                 0.15\n",
      "m_age                         0.15\n",
      "m_isAliveMother               0.14\n",
      "m_father                      0.14\n",
      "m_mother                      0.14\n",
      "m_isAliveFather               0.14\n",
      "no_parentage                  0.14\n",
      "m_isAliveHeir                 0.13\n",
      "m_heir                        0.13\n",
      "m_isAliveSpouse               0.05\n",
      "m_spouse                      0.05\n",
      "m_title                       0.04\n",
      "m_culture                     0.04\n",
      "in_books                      0.04\n",
      "m_house                       0.04\n",
      "book5_A_Dance_with_Dragons    0.03\n",
      "one_name                      0.03\n",
      "no_allegiance_title           0.01\n",
      "not_book5                     0.01\n",
      "book3_A_Storm_Of_Swords       0.01\n",
      "isNoble                      -0.04\n",
      "isMarried                    -0.05\n",
      "book2_A_Clash_Of_Kings       -0.07\n",
      "S.No                         -0.13\n",
      "book1_A_Game_Of_Thrones      -0.15\n",
      "popularity                   -0.18\n",
      "referenced                   -0.18\n",
      "numDeadRelations             -0.19\n",
      "age_birth_year               -0.52\n",
      "Name: isAlive, dtype: float64\n"
     ]
    }
   ],
   "source": [
    "# Checking correlations to 'isAlive'\n",
    "df_corr = got.corr(method = 'pearson').round(2)\n",
    "\n",
    "print(df_corr.loc['isAlive'].sort_values(ascending = False))"
   ]
  },
  {
   "cell_type": "markdown",
   "id": "985e5977",
   "metadata": {},
   "source": [
    "\n",
    "## Features Options for Modeling"
   ]
  },
  {
   "cell_type": "code",
   "execution_count": 17,
   "id": "9496fe03",
   "metadata": {},
   "outputs": [],
   "source": [
    "# Creating different feature options for moddeling\n",
    "candidate_dict = {\n",
    "\n",
    " # Full model\n",
    " 'logit_full'   : ['S.No', 'book1_A_Game_Of_Thrones', 'book2_A_Clash_Of_Kings',\n",
    "                   'book3_A_Storm_Of_Swords', 'book4_A_Feast_For_Crows',\n",
    "                   'book5_A_Dance_with_Dragons', 'isMarried', 'isNoble',\n",
    "                   'numDeadRelations', 'popularity', 'isAlive', 'm_title', 'm_culture',\n",
    "                   'm_dateOfBirth', 'm_mother', 'm_father', 'm_heir', 'm_house',\n",
    "                   'm_spouse', 'm_isAliveMother', 'm_isAliveFather', 'm_isAliveHeir',\n",
    "                   'm_isAliveSpouse', 'm_age', 'age_birth_year', 'age_equal_year',\n",
    "                   'no_parentage', 'no_allegiance_title', 'in_books', 'referenced',\n",
    "                   'one_name', 'not_book5'],\n",
    " \n",
    "\n",
    " # Significant variables only (set 1)\n",
    " 'logit_best'    : ['in_books',\n",
    "                    'referenced',\n",
    "                    'not_book5',\n",
    "                    'book1_A_Game_Of_Thrones',\n",
    "                    'book2_A_Clash_Of_Kings',\n",
    "                    'book4_A_Feast_For_Crows',\n",
    "                    'age_birth_year',\n",
    "                    'age_equal_year',\n",
    "                    'popularity'],\n",
    "\n",
    "\n",
    " # Significant variables only (set 2)\n",
    " 'logit_sig_smallest'  : ['popularity', \n",
    "                          'age_equal_year', \n",
    "                          'age_birth_year',\n",
    "                          'book3_A_Storm_Of_Swords']\n",
    "    \n",
    "}\n"
   ]
  },
  {
   "cell_type": "code",
   "execution_count": 18,
   "id": "c83fa11c",
   "metadata": {},
   "outputs": [],
   "source": [
    "# train/test split with the logit_sig variables\n",
    "got_data   =  got.loc[ : , candidate_dict['logit_best']]\n",
    "got_target =  got.loc[ : , \"isAlive\"]\n",
    "\n",
    "\n",
    "# train/test split\n",
    "x_train, x_test, y_train, y_test = train_test_split(\n",
    "            got_data,\n",
    "            got_target,\n",
    "            random_state = 219,\n",
    "            test_size    = 0.10,\n",
    "            stratify     = got_target)"
   ]
  },
  {
   "cell_type": "markdown",
   "id": "2d454c5d",
   "metadata": {},
   "source": [
    "## Trying Different Models To Find The Best Fitted One"
   ]
  },
  {
   "cell_type": "markdown",
   "id": "23759df3",
   "metadata": {},
   "source": [
    "### KNN"
   ]
  },
  {
   "cell_type": "code",
   "execution_count": 19,
   "id": "9b95852a",
   "metadata": {},
   "outputs": [],
   "source": [
    "# Setting StandardScaler()\n",
    "scaler = StandardScaler()\n",
    "\n",
    "\n",
    "# Fitting the data\n",
    "scaler.fit(got_data)\n",
    "\n",
    "\n",
    "# Transforming the data\n",
    "x_scaled     = scaler.transform(got_data)\n",
    "\n",
    "\n",
    "# Converting to a DataFrame\n",
    "x_scaled_df  = pd.DataFrame(x_scaled) \n",
    "\n",
    "\n",
    "# Train-test split with the scaled data\n",
    "x_train_scaled, x_test_scaled, y_train_scaled, y_test_scaled = train_test_split(\n",
    "            x_scaled_df,\n",
    "            got_target,\n",
    "            random_state = 219,\n",
    "            test_size    = 0.10,\n",
    "            stratify     = got_target)"
   ]
  },
  {
   "cell_type": "markdown",
   "id": "6e693cf2",
   "metadata": {},
   "source": [
    "#### Hyperparameter Tuning"
   ]
  },
  {
   "cell_type": "code",
   "execution_count": 20,
   "id": "4101a8d5",
   "metadata": {},
   "outputs": [
    {
     "data": {
      "image/png": "[encoded data removed]",
      "text/plain": [
       "<Figure size 864x576 with 1 Axes>"
      ]
     },
     "metadata": {
      "needs_background": "light"
     },
     "output_type": "display_data"
    },
    {
     "name": "stdout",
     "output_type": "stream",
     "text": [
      "The optimal number of neighbors is: 14\n"
     ]
    }
   ],
   "source": [
    "# Determining the optimal number of neighbors\n",
    "opt_neighbors = optimal_neighbors(x_data        = got_data,\n",
    "                                  y_data        = got_target,\n",
    "                                  response_type = 'class')"
   ]
  },
  {
   "cell_type": "code",
   "execution_count": 21,
   "id": "ff9e0210",
   "metadata": {},
   "outputs": [],
   "source": [
    "# # Declaring a hyperparameter space\n",
    "# n_neighbors        = [opt_neighbors]\n",
    "# weights            = ['uniform', 'distance']\n",
    "# algorithm          = ['auto', 'ball_tree', 'ball_tree', 'kd_tree', 'brute']\n",
    "# leaf_size          =  np.arange(10, 100)\n",
    "# metric             = ['minkowski', 'euclidean', 'manhattan']\n",
    "\n",
    "# # Creating a hyperparameter grid\n",
    "# param_grid = {'n_neighbors' : n_neighbors,\n",
    "#               'weights'         : weights,\n",
    "#               'algorithm'        : algorithm,\n",
    "#               'leaf_size' : leaf_size,\n",
    "#               'metric'     : metric}\n",
    "\n",
    "\n",
    "# # Setting the model object without hyperparameters\n",
    "# tuned_knn = KNeighborsClassifier(n_neighbors = opt_neighbors)\n",
    "\n",
    "\n",
    "# # RandomizedSearchCV object\n",
    "# tuned_knn_cv = RandomizedSearchCV(estimator             = tuned_knn,\n",
    "#                                    param_distributions   = param_grid,\n",
    "#                                    cv                    = 3,\n",
    "#                                    n_iter                = 1000,\n",
    "#                                    random_state          = 219,\n",
    "#                                    scoring = make_scorer(roc_auc_score,\n",
    "#                                              needs_threshold = False))\n",
    "\n",
    "\n",
    "# # Fitting to the full data\n",
    "# tuned_knn_cv.fit(got_data, got_target)\n",
    "\n",
    "# # Printing the optimal parameters and best score\n",
    "# print(\"Tuned Parameters  :\", tuned_knn_cv.best_params_)\n",
    "# print(\"Tuned Training AUC:\", tuned_knn_cv.best_score_.round(4))"
   ]
  },
  {
   "cell_type": "markdown",
   "id": "709fffad",
   "metadata": {},
   "source": [
    "#### Running KNN"
   ]
  },
  {
   "cell_type": "code",
   "execution_count": 22,
   "id": "a54da009",
   "metadata": {},
   "outputs": [
    {
     "name": "stdout",
     "output_type": "stream",
     "text": [
      "Training ACCURACY: 0.8989\n",
      "Testing  ACCURACY: 0.8821\n",
      "AUC Score        : 0.8617\n",
      "\n",
      "True Negatives : 41\n",
      "False Positives: 9\n",
      "False Negatives: 14\n",
      "True Positives : 131\n",
      "\n"
     ]
    }
   ],
   "source": [
    "# Setting a KNN classification model with optimal neighbors\n",
    "knn_opt = KNeighborsClassifier(n_neighbors = 10, weights = 'distance', metric = 'euclidean',  \n",
    "                               leaf_size = 76, algorithm = 'brute')\n",
    "\n",
    "\n",
    "# Fitting the training data\n",
    "knn_fit = knn_opt.fit(x_train_scaled, y_train_scaled)\n",
    "\n",
    "\n",
    "# Predicting based on the testing set\n",
    "knn_pred = knn_fit.predict(x_test_scaled)\n",
    "\n",
    "\n",
    "# Scoring the results\n",
    "print('Training ACCURACY:', knn_fit.score(x_train_scaled, y_train_scaled).round(4))\n",
    "print('Testing  ACCURACY:', knn_fit.score(x_test_scaled, y_test_scaled).round(4))\n",
    "print('AUC Score        :', roc_auc_score(y_true  = y_test_scaled,\n",
    "                                          y_score = knn_pred).round(4))\n",
    "\n",
    "\n",
    "# Saving scoring data\n",
    "knn_train_score = knn_fit.score(x_train_scaled, y_train_scaled).round(4)\n",
    "knn_test_score  = knn_fit.score(x_test_scaled, y_test_scaled).round(4)\n",
    "\n",
    "\n",
    "# Saving AUC score\n",
    "knn_auc_score   = roc_auc_score(y_true  = y_test_scaled,\n",
    "                                          y_score = knn_pred).round(4)\n",
    "\n",
    "# Unpacking the confusion matrix\n",
    "knn_tn, \\\n",
    "knn_fp, \\\n",
    "knn_fn, \\\n",
    "knn_tp = confusion_matrix(y_true = y_test_scaled, y_pred = knn_pred).ravel()\n",
    "\n",
    "\n",
    "# Printing each result one-by-one\n",
    "print(f\"\"\"\n",
    "True Negatives : {knn_tn}\n",
    "False Positives: {knn_fp}\n",
    "False Negatives: {knn_fn}\n",
    "True Positives : {knn_tp}\n",
    "\"\"\")\n"
   ]
  },
  {
   "cell_type": "markdown",
   "id": "23e13bd4",
   "metadata": {},
   "source": [
    "### Logistic Regression"
   ]
  },
  {
   "cell_type": "markdown",
   "id": "9b2c82bd",
   "metadata": {},
   "source": [
    "#### Hyperparameter Tuning"
   ]
  },
  {
   "cell_type": "code",
   "execution_count": 23,
   "id": "014ad728",
   "metadata": {},
   "outputs": [],
   "source": [
    "# # Declaring a hyperparameter space\n",
    "# class_weight    = ['balanced', 'dict', 'None']\n",
    "# solver          = ['newton-cg', 'sag', 'lbfgs', 'saga']\n",
    "\n",
    "\n",
    "# # Creating a hyperparameter grid\n",
    "# param_grid = {'class_weight' : class_weight,\n",
    "#               'solver'       : solver}\n",
    "\n",
    "\n",
    "# # Setting the model object without hyperparameters\n",
    "# lr_tuned = LogisticRegression(random_state = 219,\n",
    "#                               max_iter     = 100) \n",
    "\n",
    "\n",
    "# # GridSearchCV object\n",
    "# lr_tuned_cv = RandomizedSearchCV(estimator           = lr_tuned,   # the model object\n",
    "#                                  param_distributions = param_grid, # parameters to tune\n",
    "#                                  cv                  = 3,          # how many folds in cross-validation\n",
    "#                                  n_iter              = 12,        # number of combinations of hyperparameters to try\n",
    "#                                  random_state        = 219,        # starting point for random sequence\n",
    "#                                  scoring = make_scorer(\n",
    "#                                            roc_auc_score,\n",
    "#                                            needs_threshold = False)) \n",
    "\n",
    "\n",
    "# # Fitting to the full data\n",
    "# lr_tuned_cv.fit(got_data, got_target)\n",
    "\n",
    "\n",
    "# # Printing the optimal parameters and best score\n",
    "# print(\"Tuned Parameters  :\", lr_tuned_cv.best_params_)\n",
    "# print(\"Tuned CV AUC      :\", lr_tuned_cv.best_score_.round(4))"
   ]
  },
  {
   "cell_type": "markdown",
   "id": "ed86c081",
   "metadata": {},
   "source": [
    "#### Running Logistic Regression"
   ]
  },
  {
   "cell_type": "code",
   "execution_count": 24,
   "id": "5b8ed98e",
   "metadata": {},
   "outputs": [
    {
     "name": "stdout",
     "output_type": "stream",
     "text": [
      "Training ACCURACY: 0.8384\n",
      "Testing  ACCURACY: 0.8974\n",
      "AUC Score        : 0.8066\n",
      "\n",
      "True Negatives : 31\n",
      "False Positives: 19\n",
      "False Negatives: 1\n",
      "True Positives : 144\n",
      "\n",
      "('intercept', 1.28)\n",
      "('in_books', -0.27)\n",
      "('referenced', -0.21)\n",
      "('not_book5', -0.71)\n",
      "('book1_A_Game_Of_Thrones', -0.25)\n",
      "('book2_A_Clash_Of_Kings', -0.17)\n",
      "('book4_A_Feast_For_Crows', 1.7)\n",
      "('age_birth_year', -4.38)\n",
      "('age_equal_year', 3.47)\n",
      "('popularity', -2.31)\n"
     ]
    }
   ],
   "source": [
    "# Setting a logistic regression model\n",
    "logreg = LogisticRegression(solver = 'newton-cg', class_weight = 'dict',\n",
    "                            random_state = 219)\n",
    "\n",
    "\n",
    "# Fitting the training data\n",
    "logreg_fit = logreg.fit(x_train, y_train)\n",
    "\n",
    "\n",
    "# Predicting based on the testing set\n",
    "logreg_pred = logreg_fit.predict(x_test)\n",
    "\n",
    "\n",
    "# Scoring the results\n",
    "print('Training ACCURACY:', logreg_fit.score(x_train, y_train).round(4))\n",
    "print('Testing  ACCURACY:', logreg_fit.score(x_test, y_test).round(4))\n",
    "print('AUC Score        :', roc_auc_score(y_true  = y_test,\n",
    "                    y_score = logreg_pred).round(decimals = 4))\n",
    "\n",
    "# Saving scoring data for future use\n",
    "logreg_train_score = logreg_fit.score(x_train, y_train).round(4) # accuracy\n",
    "logreg_test_score  = logreg_fit.score(x_test, y_test).round(4) # accuracy\n",
    "logreg_auc_score = roc_auc_score(y_true  = y_test,\n",
    "                                 y_score = logreg_pred).round(decimals = 4)\n",
    "\n",
    "# Unpacking the confusion matrix\n",
    "logreg_tn, \\\n",
    "logreg_fp, \\\n",
    "logreg_fn, \\\n",
    "logreg_tp = confusion_matrix(y_true = y_test, y_pred = logreg_pred).ravel()\n",
    "\n",
    "\n",
    "# Printing each result one-by-one\n",
    "print(f\"\"\"\n",
    "True Negatives : {logreg_tn}\n",
    "False Positives: {logreg_fp}\n",
    "False Negatives: {logreg_fn}\n",
    "True Positives : {logreg_tp}\n",
    "\"\"\")\n",
    "\n",
    "# Zipping each feature name to its coefficient\n",
    "logreg_model_values = zip(got_data.columns,\n",
    "                          logreg_fit.coef_.ravel().round(decimals = 2))\n",
    "\n",
    "\n",
    "# Setting up a placeholder list to store model features\n",
    "logreg_model_lst = [('intercept', logreg_fit.intercept_[0].round(decimals = 2))]\n",
    "\n",
    "\n",
    "# Printing out each feature-coefficient pair one by one\n",
    "for val in logreg_model_values:\n",
    "    logreg_model_lst.append(val)\n",
    "    \n",
    "\n",
    "# Checking Coefficients \n",
    "for pair in logreg_model_lst:\n",
    "    print(pair)\n"
   ]
  },
  {
   "cell_type": "markdown",
   "id": "1618ac81",
   "metadata": {},
   "source": [
    "### Classification Trees (CART Models)"
   ]
  },
  {
   "cell_type": "markdown",
   "id": "268ec40e",
   "metadata": {},
   "source": [
    "#### Hyperparameter Tuning"
   ]
  },
  {
   "cell_type": "code",
   "execution_count": 25,
   "id": "b93815fc",
   "metadata": {},
   "outputs": [],
   "source": [
    "# # Declaring a hyperparameter space\n",
    "# criterion     = ['gini', 'entropy']\n",
    "# splitter      = ['best', 'random']\n",
    "# max_depth    = np.arange(2, 8)\n",
    "\n",
    "\n",
    "\n",
    "# # Creating a hyperparameter grid\n",
    "# param_grid = {'criterion'        : criterion,\n",
    "#               'splitter'         : splitter,\n",
    "#               'max_depth'        : max_depth}\n",
    "\n",
    "\n",
    "# # Setting the model object without hyperparameters\n",
    "# tuned_tree = DecisionTreeClassifier(random_state = 219)\n",
    "\n",
    "\n",
    "# # RandomizedSearchCV object\n",
    "# tuned_tree_cv = RandomizedSearchCV(estimator             = tuned_tree,\n",
    "#                                    param_distributions   = param_grid,\n",
    "#                                    cv                    = 3,\n",
    "#                                    n_iter                = 1000,\n",
    "#                                    random_state          = 219,\n",
    "#                                    scoring = make_scorer(roc_auc_score,\n",
    "#                                              needs_threshold = False))\n",
    "\n",
    "\n",
    "# # Fitting to the full data\n",
    "# tuned_tree_cv.fit(got_data, got_target)\n",
    "\n",
    "# # printing the optimal parameters and best score\n",
    "# print(\"Tuned Parameters  :\", tuned_tree_cv.best_params_)\n",
    "# print(\"Tuned Training AUC:\", tuned_tree_cv.best_score_.round(4))"
   ]
  },
  {
   "cell_type": "markdown",
   "id": "2f2c22ec",
   "metadata": {},
   "source": [
    "#### Running Classification Trees "
   ]
  },
  {
   "cell_type": "code",
   "execution_count": 26,
   "id": "370e41df",
   "metadata": {},
   "outputs": [
    {
     "name": "stdout",
     "output_type": "stream",
     "text": [
      "Training ACCURACY: 0.8549\n",
      "Testing  ACCURACY: 0.9128\n",
      "AUC Score        : 0.8562\n",
      "\n",
      "True Negatives : 37\n",
      "False Positives: 13\n",
      "False Negatives: 4\n",
      "True Positives : 141\n",
      "\n"
     ]
    }
   ],
   "source": [
    "# Setting a classification tree object\n",
    "tree = DecisionTreeClassifier(max_depth = 7, splitter = 'random', criterion = 'gini', random_state = 219)\n",
    "\n",
    "\n",
    "# Fitting the training data\n",
    "tree_fit = tree.fit(x_train, y_train)\n",
    "\n",
    "\n",
    "# Predicting on new data\n",
    "tree_pred = tree_fit.predict(x_test)\n",
    "\n",
    "\n",
    "# Scoring the model\n",
    "print('Training ACCURACY:', tree_fit.score(x_train, y_train).round(4))\n",
    "print('Testing  ACCURACY:', tree_fit.score(x_test, y_test).round(4))\n",
    "print('AUC Score        :', roc_auc_score(y_true  = y_test,\n",
    "                                          y_score = tree_pred).round(4))\n",
    "\n",
    "\n",
    "# Saving scoring data for future use\n",
    "tree_train_score = tree_fit.score(x_train, y_train).round(4) # accuracy\n",
    "tree_test_score  = tree_fit.score(x_test, y_test).round(4) # accuracy\n",
    "\n",
    "\n",
    "# Saving auc score\n",
    "tree_auc_score   = roc_auc_score(y_true  = y_test,\n",
    "                                        y_score = tree_pred).round(4)\n",
    "\n",
    "\n",
    "# Unpacking the confusion matrix\n",
    "tree_tn, \\\n",
    "tree_fp, \\\n",
    "tree_fn, \\\n",
    "tree_tp = confusion_matrix(y_true = y_test, y_pred = tree_pred).ravel()\n",
    "\n",
    "\n",
    "# Printing each result one-by-one\n",
    "print(f\"\"\"\n",
    "True Negatives : {tree_tn}\n",
    "False Positives: {tree_fp}\n",
    "False Negatives: {tree_fn}\n",
    "True Positives : {tree_tp}\n",
    "\"\"\")\n",
    "\n"
   ]
  },
  {
   "cell_type": "markdown",
   "id": "c2773e63",
   "metadata": {},
   "source": [
    "### Random Forest"
   ]
  },
  {
   "cell_type": "markdown",
   "id": "d600b0fc",
   "metadata": {},
   "source": [
    "#### Hyperparameter Tuning "
   ]
  },
  {
   "cell_type": "code",
   "execution_count": 27,
   "id": "1543ea36",
   "metadata": {},
   "outputs": [],
   "source": [
    "# # Declaring a hyperparameter space\n",
    "# criterion  = ['gini', 'entropy']\n",
    "# max_depth  = np.arange(2, 8)\n",
    "# n_estimators = np.arange(10, 200, 10)\n",
    "\n",
    "\n",
    "# # Creating a hyperparameter grid\n",
    "# param_grid = {'n_estimators'     : n_estimators,\n",
    "#               'criterion'        : criterion,\n",
    "#               'max_depth'        : max_depth}\n",
    "\n",
    "\n",
    "# # Setting the model object without hyperparameters\n",
    "# forest_grid = RandomForestClassifier(random_state = 219)\n",
    "\n",
    "\n",
    "# # GridSearchCV object\n",
    "# forest_cv = RandomizedSearchCV(estimator           = forest_grid,\n",
    "#                                param_distributions = param_grid,\n",
    "#                                cv         = 3,\n",
    "#                                n_iter     = 1000,\n",
    "#                                scoring    = make_scorer(roc_auc_score,\n",
    "#                                             needs_threshold = False))\n",
    "\n",
    "\n",
    "# # Fitting to the full dataset\n",
    "# forest_cv.fit(got_data, got_target)\n",
    "\n",
    "\n",
    "# # Printing the optimal parameters and best score\n",
    "# print(\"Tuned Parameters  :\", forest_cv.best_params_)\n",
    "# print(\"Tuned Training AUC:\", forest_cv.best_score_.round(4))"
   ]
  },
  {
   "cell_type": "markdown",
   "id": "054c5493",
   "metadata": {},
   "source": [
    "#### Running Random Forest"
   ]
  },
  {
   "cell_type": "markdown",
   "id": "cfc077ce",
   "metadata": {},
   "source": [
    "Building a model based on hyperparameter tuning results."
   ]
  },
  {
   "cell_type": "code",
   "execution_count": 28,
   "id": "bd51d5c7",
   "metadata": {},
   "outputs": [
    {
     "name": "stdout",
     "output_type": "stream",
     "text": [
      "Forest Tuned Training ACCURACY: 0.8601\n",
      "Forest Tuned Testing  ACCURACY: 0.9077\n",
      "Forest Tuned AUC Score        : 0.8331\n",
      "\n",
      "True Negatives : 34\n",
      "False Positives: 16\n",
      "False Negatives: 2\n",
      "True Positives : 143\n",
      "\n"
     ]
    },
    {
     "data": {
      "image/png": "[encoded data removed]",
      "text/plain": [
       "<Figure size 864x648 with 1 Axes>"
      ]
     },
     "metadata": {
      "needs_background": "light"
     },
     "output_type": "display_data"
    }
   ],
   "source": [
    "# Setting with best_estimator\n",
    "forest_tuned = RandomForestClassifier(criterion = 'gini', max_depth = 7,\n",
    "                       n_estimators=20, random_state=219)\n",
    "\n",
    "\n",
    "# Fitting\n",
    "forest_tuned_fit = forest_tuned.fit(x_train, y_train)\n",
    "\n",
    "\n",
    "# Predicting based on the testing set\n",
    "forest_tuned_pred = forest_tuned_fit.predict(x_test)\n",
    "\n",
    "\n",
    "# Scoring the results\n",
    "print('Forest Tuned Training ACCURACY:', forest_tuned.score(x_train, y_train).round(4))\n",
    "print('Forest Tuned Testing  ACCURACY:', forest_tuned.score(x_test, y_test).round(4))\n",
    "print('Forest Tuned AUC Score        :', roc_auc_score(y_true  = y_test,\n",
    "                                                       y_score = forest_tuned_pred).round(4))\n",
    "\n",
    "\n",
    "# Saving scoring data for future use\n",
    "forest_tuned_train_score = forest_tuned.score(x_train, y_train).round(4) # accuracy\n",
    "forest_tuned_test_score  = forest_tuned.score(x_test, y_test).round(4)   # accuracy\n",
    "\n",
    "\n",
    "# Saving the AUC score\n",
    "forest_tuned_auc = roc_auc_score(y_true  = y_test,\n",
    "                                 y_score = forest_tuned_pred).round(4) # auc\n",
    "\n",
    "# Plotting feature importances\n",
    "plot_feature_importances(forest_tuned_fit,\n",
    "                         train = x_train,\n",
    "                         export = False)\n",
    "\n",
    "# Unpacking the confusion matrix\n",
    "tuned_rf_tn, \\\n",
    "tuned_rf_fp, \\\n",
    "tuned_rf_fn, \\\n",
    "tuned_rf_tp = confusion_matrix(y_true = y_test, y_pred = forest_tuned_pred).ravel()\n",
    "\n",
    "\n",
    "# Printing each result one-by-one\n",
    "print(f\"\"\"\n",
    "True Negatives : {tuned_rf_tn}\n",
    "False Positives: {tuned_rf_fp}\n",
    "False Negatives: {tuned_rf_fn}\n",
    "True Positives : {tuned_rf_tp}\n",
    "\"\"\")"
   ]
  },
  {
   "cell_type": "markdown",
   "id": "cc0b2764",
   "metadata": {},
   "source": [
    "### Gradient Boosted Machines"
   ]
  },
  {
   "cell_type": "markdown",
   "id": "41a91055",
   "metadata": {},
   "source": [
    "#### Hyperparameter Tuning"
   ]
  },
  {
   "cell_type": "code",
   "execution_count": 29,
   "id": "5d9cebd8",
   "metadata": {},
   "outputs": [],
   "source": [
    "# # Setting a hyperparameter space\n",
    "# learning_rate        = np.arange(0.1, 2.2, 0.5)\n",
    "# n_estimators    = np.arange(1, 200, 25)\n",
    "# max_depth        = np.arange(2, 8, 1)\n",
    "# min_samples_leaf   = np.arange(30, 51, 5)\n",
    "\n",
    "# # Creating a hyperparameter grid\n",
    "# param_grid = {'learning_rate' : learning_rate,\n",
    "#               'n_estimators'     : n_estimators,\n",
    "#               'max_depth'  : max_depth,\n",
    "#               'min_samples_leaf'    : min_samples_leaf}\n",
    "\n",
    "\n",
    "# # Setting the model object without hyperparameters\n",
    "# full_gbm_grid = GradientBoostingClassifier(random_state = 219)\n",
    "\n",
    "\n",
    "# # GridSearchCV object\n",
    "# full_gbm_cv = RandomizedSearchCV(estimator     = full_gbm_grid,\n",
    "#                            param_distributions = param_grid,\n",
    "#                            cv                  = 3,\n",
    "#                            n_iter              = 500,\n",
    "#                            random_state        = 219,\n",
    "#                            scoring             = make_scorer(roc_auc_score,\n",
    "#                                                  needs_threshold = False))\n",
    "\n",
    "\n",
    "# # Fitting to the full model\n",
    "# full_gbm_cv.fit(got_data, got_target)\n",
    "\n",
    "\n",
    "\n",
    "# # Printing the optimal parameters and best score\n",
    "# print(\"Tuned Parameters  :\", full_gbm_cv.best_params_)\n",
    "# print(\"Tuned Training AUC:\", full_gbm_cv.best_score_.round(4))"
   ]
  },
  {
   "cell_type": "markdown",
   "id": "d3eafbaa",
   "metadata": {},
   "source": [
    "#### Running Gradient Boosted Machines"
   ]
  },
  {
   "cell_type": "code",
   "execution_count": 30,
   "id": "719446bf",
   "metadata": {},
   "outputs": [
    {
     "name": "stdout",
     "output_type": "stream",
     "text": [
      "Training ACCURACY: 0.7938\n",
      "Testing  ACCURACY: 0.8821\n",
      "AUC Score        : 0.8683\n",
      "\n",
      "True Negatives : 42\n",
      "False Positives: 8\n",
      "False Negatives: 15\n",
      "True Positives : 130\n",
      "\n"
     ]
    }
   ],
   "source": [
    "# Setting with best_estimator\n",
    "gbm_tuned = GradientBoostingClassifier(learning_rate = 2.1,\n",
    "                                       max_depth     = 4,\n",
    "                                       n_estimators  = 1,\n",
    "                                       min_samples_leaf    = 35,\n",
    "                                       random_state  = 219)\n",
    "\n",
    "\n",
    "# Fitting\n",
    "gbm_tuned_fit = gbm_tuned.fit(x_train, y_train)\n",
    "\n",
    "\n",
    "# Predicting based on the testing set\n",
    "gbm_tuned_pred = gbm_tuned_fit.predict(x_test)\n",
    "\n",
    "\n",
    "# Scoring the results\n",
    "print('Training ACCURACY:', gbm_tuned_fit.score(x_train, y_train).round(4))\n",
    "print('Testing  ACCURACY:', gbm_tuned_fit.score(x_test, y_test).round(4))\n",
    "print('AUC Score        :', roc_auc_score(y_true  = y_test,\n",
    "                                          y_score = gbm_tuned_pred).round(4))\n",
    "\n",
    "# Unpacking the confusion matrix\n",
    "gbm_tuned_tn, \\\n",
    "gbm_tuned_fp, \\\n",
    "gbm_tuned_fn, \\\n",
    "gbm_tuned_tp = confusion_matrix(y_true = y_test, y_pred = gbm_tuned_pred).ravel()\n",
    "\n",
    "\n",
    "# Printing each result one-by-one\n",
    "print(f\"\"\"\n",
    "True Negatives : {gbm_tuned_tn}\n",
    "False Positives: {gbm_tuned_fp}\n",
    "False Negatives: {gbm_tuned_fn}\n",
    "True Positives : {gbm_tuned_tp}\n",
    "\"\"\")\n",
    "\n",
    "# Declaring model performance objects\n",
    "gbm_train_acc = gbm_tuned_fit.score(x_train, y_train).round(4)\n",
    "gbm_test_acc  = gbm_tuned_fit.score(x_test, y_test).round(4)\n",
    "gbm_auc       = roc_auc_score(y_true  = y_test,\n",
    "                              y_score = gbm_tuned_pred).round(4)\n",
    "\n"
   ]
  },
  {
   "cell_type": "markdown",
   "id": "e411ffe8",
   "metadata": {},
   "source": [
    "## Final Output"
   ]
  },
  {
   "attachments": {},
   "cell_type": "markdown",
   "id": "3cbda4c9",
   "metadata": {},
   "source": [
    "The process to find the best combination to predict whether a character from Game of Thrones is alive or not, started by including all features and then remove one by one. Another approach that was tried was the other direction by including those with higher correlation. The final result is a combination of both, based on a holistic analysis of all model measurements. \n",
    "\n",
    "Looking at the final results from the different classification models, <strong>KNN</strong> stands out as the best fitted model to predict whose alive in this dataset based on Game of Thrones, based on the low train-test gap and that all scores are below 0.90. Therefore, KNN is my chosen model, even though GBM is has a higher AUC."
   ]
  },
  {
   "cell_type": "code",
   "execution_count": 32,
   "id": "c537978e",
   "metadata": {},
   "outputs": [
    {
     "name": "stdout",
     "output_type": "stream",
     "text": [
      "\n",
      "Model         AUC Score      Training Accuracy      Testing Accuracy      TN, FP, FN, TP\n",
      "-----         ---------      -----------------      ----------------      --------------\n",
      "*KNN           0.8617         0.8989                0.8821               (41, 9, 14, 131)\n",
      "Logistic       0.8066         0.8384                0.8974               (31, 19, 1, 144)\n",
      "Trees          0.8562         0.8549                0.9128               (37, 13, 4, 141)\n",
      "Random Forest  0.8331         0.8601                0.9077               (34, 16, 2, 143)\n",
      "GBM            0.8683         0.7938                0.8821               (42, 8, 15, 130)\n",
      "\n",
      "\n",
      "* Final model\n",
      "\n"
     ]
    }
   ],
   "source": [
    "# Comparing results final model results\n",
    "print(f\"\"\"\n",
    "Model         AUC Score      Training Accuracy      Testing Accuracy      TN, FP, FN, TP\n",
    "-----         ---------      -----------------      ----------------      --------------\n",
    "*KNN           {knn_auc_score}         {knn_train_score}                {knn_test_score}               {knn_tn, knn_fp, knn_fn, knn_tp}\n",
    "Logistic       {logreg_auc_score}         {logreg_train_score}                {logreg_test_score}               {logreg_tn, logreg_fp, logreg_fn, logreg_tp}\n",
    "Trees          {tree_auc_score}         {tree_train_score}                {tree_test_score}               {tree_tn, tree_fp, tree_fn, tree_tp}\n",
    "Random Forest  {forest_tuned_auc}         {forest_tuned_train_score}                {forest_tuned_test_score}               {tuned_rf_tn, tuned_rf_fp, tuned_rf_fn, tuned_rf_tp}\n",
    "GBM            {gbm_auc}         {gbm_train_acc}                {gbm_test_acc}               {gbm_tuned_tn, gbm_tuned_fp, gbm_tuned_fn, gbm_tuned_tp}\n",
    "\n",
    "\n",
    "* Final model\n",
    "\"\"\")\n"
   ]
  }
 ],
 "metadata": {
  "kernelspec": {
   "display_name": "Python 3 (ipykernel)",
   "language": "python",
   "name": "python3"
  },
  "language_info": {
   "codemirror_mode": {
    "name": "ipython",
    "version": 3
   },
   "file_extension": ".py",
   "mimetype": "text/x-python",
   "name": "python",
   "nbconvert_exporter": "python",
   "pygments_lexer": "ipython3",
   "version": "3.8.8"
  },
  "toc": {
   "base_numbering": 1,
   "nav_menu": {},
   "number_sections": true,
   "sideBar": true,
   "skip_h1_title": false,
   "title_cell": "Table of Contents",
   "title_sidebar": "Contents",
   "toc_cell": false,
   "toc_position": {},
   "toc_section_display": true,
   "toc_window_display": true
  },
  "varInspector": {
   "cols": {
    "lenName": 16,
    "lenType": 16,
    "lenVar": 40
   },
   "kernels_config": {
    "python": {
     "delete_cmd_postfix": "",
     "delete_cmd_prefix": "del ",
     "library": "var_list.py",
     "varRefreshCmd": "print(var_dic_list())"
    },
    "r": {
     "delete_cmd_postfix": ") ",
     "delete_cmd_prefix": "rm(",
     "library": "var_list.r",
     "varRefreshCmd": "cat(var_dic_list()) "
    }
   },
   "types_to_exclude": [
    "module",
    "function",
    "builtin_function_or_method",
    "instance",
    "_Feature"
   ],
   "window_display": false
  }
 },
 "nbformat": 4,
 "nbformat_minor": 5
}
